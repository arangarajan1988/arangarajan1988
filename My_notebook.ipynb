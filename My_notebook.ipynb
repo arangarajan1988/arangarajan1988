{
 "cells": [
  {
   "cell_type": "code",
   "execution_count": 3,
   "metadata": {},
   "outputs": [],
   "source": [
    "import torch\n",
    "import numpy as np\n"
   ]
  },
  {
   "cell_type": "code",
   "execution_count": 4,
   "metadata": {},
   "outputs": [
    {
     "name": "stdout",
     "output_type": "stream",
     "text": [
      "[[1 2 3]\n",
      " [4 5 6]\n",
      " [7 8 9]]\n"
     ]
    }
   ],
   "source": [
    " dd =np.array(\n",
    "     [\n",
    "     [1,2,3],\n",
    "     [4,5,6],\n",
    "     [7,8,9]\n",
    "     ]\n",
    "     )\n",
    " print(dd)"
   ]
  },
  {
   "cell_type": "code",
   "execution_count": 5,
   "metadata": {},
   "outputs": [
    {
     "name": "stdout",
     "output_type": "stream",
     "text": [
      "tensor([[1, 2, 3],\n",
      "        [4, 5, 6],\n",
      "        [7, 8, 9]])\n",
      "torch.Size([3, 3])\n"
     ]
    },
    {
     "data": {
      "text/plain": [
       "tensor([[1, 2, 3, 4, 5, 6, 7, 8, 9]])"
      ]
     },
     "execution_count": 5,
     "metadata": {},
     "output_type": "execute_result"
    }
   ],
   "source": [
    "x_data = torch.tensor(dd)\n",
    "print(x_data)\n",
    "\n",
    "print(x_data.shape)\n",
    "x_data.reshape(1,9)\n"
   ]
  },
  {
   "cell_type": "code",
   "execution_count": 6,
   "metadata": {},
   "outputs": [
    {
     "name": "stdout",
     "output_type": "stream",
     "text": [
      "torch.int64\n",
      "cpu\n",
      "torch.strided\n"
     ]
    }
   ],
   "source": [
    "t = torch.tensor([[1,2],[3,4]])\n",
    "print(t.dtype)\n",
    "print(t.device)\n",
    "print(t.layout)"
   ]
  },
  {
   "cell_type": "code",
   "execution_count": 6,
   "metadata": {},
   "outputs": [
    {
     "name": "stdout",
     "output_type": "stream",
     "text": [
      "torch.int64\n",
      "torch.float32\n",
      "torch.int64\n",
      "torch.int64\n"
     ]
    }
   ],
   "source": [
    "#Tensors from numpy\n",
    "\n",
    "array1 = np.array([[1,2],[2,3]])\n",
    "print(torch.tensor(array1).dtype)\n",
    "print(torch.Tensor(array1).dtype)\n",
    "print(torch.as_tensor(array1).dtype)        \n",
    "print(torch.from_numpy(array1).dtype)\n",
    "\n",
    "\n"
   ]
  },
  {
   "cell_type": "code",
   "execution_count": 7,
   "metadata": {},
   "outputs": [
    {
     "data": {
      "text/plain": [
       "tensor([[1., 0., 0.],\n",
       "        [0., 1., 0.],\n",
       "        [0., 0., 1.]])"
      ]
     },
     "execution_count": 7,
     "metadata": {},
     "output_type": "execute_result"
    }
   ],
   "source": [
    "torch.eye(3,3)"
   ]
  },
  {
   "cell_type": "code",
   "execution_count": 8,
   "metadata": {},
   "outputs": [
    {
     "data": {
      "text/plain": [
       "tensor([[0., 0., 0.],\n",
       "        [0., 0., 0.],\n",
       "        [0., 0., 0.]])"
      ]
     },
     "execution_count": 8,
     "metadata": {},
     "output_type": "execute_result"
    }
   ],
   "source": [
    "torch.zeros(3,3)\n"
   ]
  },
  {
   "cell_type": "code",
   "execution_count": 10,
   "metadata": {},
   "outputs": [
    {
     "data": {
      "text/plain": [
       "tensor([[1., 1.],\n",
       "        [1., 1.],\n",
       "        [1., 1.]])"
      ]
     },
     "execution_count": 10,
     "metadata": {},
     "output_type": "execute_result"
    }
   ],
   "source": [
    "torch.ones(3,2)"
   ]
  },
  {
   "cell_type": "code",
   "execution_count": 11,
   "metadata": {},
   "outputs": [],
   "source": [
    "t = torch.tensor(\n",
    "    [\n",
    "        [1,1,1,1],\n",
    "        [2,2,2,2],\n",
    "        [3,3,3,3],\n",
    "        [4,4,4,4]\n",
    "    ],dtype= torch.float32\n",
    ")\n"
   ]
  },
  {
   "cell_type": "code",
   "execution_count": 12,
   "metadata": {},
   "outputs": [
    {
     "name": "stdout",
     "output_type": "stream",
     "text": [
      "tensor([1., 1., 1., 1., 2., 2., 2., 2., 3., 3., 3., 3., 4., 4., 4., 4.])\n",
      "tensor([[1., 1., 1., 1., 2., 2., 2., 2., 3., 3., 3., 3., 4., 4., 4., 4.]])\n"
     ]
    }
   ],
   "source": [
    "print(t.reshape(1,16).squeeze())\n",
    "print(t.reshape(1,16).squeeze().unsqueeze(dim=0))"
   ]
  },
  {
   "cell_type": "code",
   "execution_count": 13,
   "metadata": {},
   "outputs": [],
   "source": [
    "def flatten(t):\n",
    "    t = t.reshape(1,-1)\n",
    "    t = t.squeeze()\n",
    "    return t "
   ]
  },
  {
   "cell_type": "code",
   "execution_count": 14,
   "metadata": {},
   "outputs": [
    {
     "name": "stdout",
     "output_type": "stream",
     "text": [
      "tensor([[1., 1., 1., 1.],\n",
      "        [2., 2., 2., 2.],\n",
      "        [3., 3., 3., 3.],\n",
      "        [4., 4., 4., 4.]])\n",
      "tensor([[1., 1., 1., 1., 2., 2., 2., 2., 3., 3., 3., 3., 4., 4., 4., 4.]])\n",
      "tensor([1., 1., 1., 1., 2., 2., 2., 2., 3., 3., 3., 3., 4., 4., 4., 4.])\n"
     ]
    }
   ],
   "source": [
    "print(t)\n",
    "print(t.reshape(1,16))\n",
    "print(flatten(t))"
   ]
  },
  {
   "cell_type": "code",
   "execution_count": 15,
   "metadata": {},
   "outputs": [
    {
     "name": "stdout",
     "output_type": "stream",
     "text": [
      "tensor([[1, 2],\n",
      "        [2, 3],\n",
      "        [5, 6],\n",
      "        [7, 8]])\n"
     ]
    }
   ],
   "source": [
    "t1 = torch.tensor([[1,2],[2,3]])\n",
    "t2 = torch.tensor([[5,6],[7,8]])\n",
    "print(torch.cat((t1,t2),dim = 0))"
   ]
  },
  {
   "cell_type": "code",
   "execution_count": 19,
   "metadata": {},
   "outputs": [
    {
     "name": "stdout",
     "output_type": "stream",
     "text": [
      "torch.Size([3, 3, 4])\n"
     ]
    }
   ],
   "source": [
    "t1 = torch.tensor([\n",
    "    [1,1,1,1],\n",
    "    [1,1,1,1],\n",
    "    [1,1,1,1]\n",
    "])\n",
    "\n",
    "t2 = torch.tensor([\n",
    "    [2,2,2,2],\n",
    "    [2,2,2,2],\n",
    "    [2,2,2,2],\n",
    "])\n",
    "t3 = torch.tensor([\n",
    "    [3,3,3,3],\n",
    "    [3,3,3,3],\n",
    "    [3,3,3,3]\n",
    "])\n",
    "t4 = torch.stack((t1,t2,t3),dim = 0)\n",
    "print(t4.shape)"
   ]
  },
  {
   "cell_type": "code",
   "execution_count": 20,
   "metadata": {},
   "outputs": [
    {
     "name": "stdout",
     "output_type": "stream",
     "text": [
      "tensor([[[[1, 1, 1, 1],\n",
      "          [1, 1, 1, 1],\n",
      "          [1, 1, 1, 1]]],\n",
      "\n",
      "\n",
      "        [[[2, 2, 2, 2],\n",
      "          [2, 2, 2, 2],\n",
      "          [2, 2, 2, 2]]],\n",
      "\n",
      "\n",
      "        [[[3, 3, 3, 3],\n",
      "          [3, 3, 3, 3],\n",
      "          [3, 3, 3, 3]]]])\n",
      "torch.Size([3, 1, 3, 4])\n"
     ]
    }
   ],
   "source": [
    "t4 = t4.reshape(3,1,3,4)\n",
    "print(t4)\n",
    "print(t4.shape)"
   ]
  },
  {
   "cell_type": "code",
   "execution_count": 21,
   "metadata": {},
   "outputs": [
    {
     "name": "stdout",
     "output_type": "stream",
     "text": [
      "tensor([[1, 1, 1, 1, 1, 1, 1, 1, 1, 1, 1, 1],\n",
      "        [2, 2, 2, 2, 2, 2, 2, 2, 2, 2, 2, 2],\n",
      "        [3, 3, 3, 3, 3, 3, 3, 3, 3, 3, 3, 3]])\n",
      "torch.Size([3, 12])\n"
     ]
    }
   ],
   "source": [
    "print(t4.flatten(start_dim =1))\n",
    "print(t4.flatten(start_dim =1).shape)\n"
   ]
  },
  {
   "cell_type": "code",
   "execution_count": 26,
   "metadata": {},
   "outputs": [
    {
     "name": "stdout",
     "output_type": "stream",
     "text": [
      "tensor([[4., 6.],\n",
      "        [7., 9.]])\n"
     ]
    }
   ],
   "source": [
    "#element wise operations \n",
    "t1 = torch.tensor([\n",
    "    [1,2],\n",
    "    [2,3]\n",
    "],dtype = torch.float32)\n",
    "\n",
    "t2 = torch.tensor([\n",
    "    [3,4],\n",
    "    [5,6]\n",
    "],dtype = torch.float32)\n",
    "print(t1+t2)\n",
    "\n"
   ]
  },
  {
   "cell_type": "markdown",
   "metadata": {},
   "source": [
    "Elecment wise operations \n",
    "1. t1 + 2\n",
    "2. t1 - 2 \n",
    "3. t1 * 3(scalar are multiplied using broadcast function)\n",
    "\n",
    "Broad cast function in numpy is "
   ]
  },
  {
   "cell_type": "code",
   "execution_count": 29,
   "metadata": {},
   "outputs": [
    {
     "data": {
      "text/plain": [
       "array([[2, 2],\n",
       "       [2, 2]])"
      ]
     },
     "execution_count": 29,
     "metadata": {},
     "output_type": "execute_result"
    }
   ],
   "source": [
    "np.broadcast_to(2,t1.shape)  \n",
    "# will convert to the same shape as t1 and do elecment wise multiplication "
   ]
  },
  {
   "cell_type": "code",
   "execution_count": 30,
   "metadata": {},
   "outputs": [
    {
     "name": "stdout",
     "output_type": "stream",
     "text": [
      "tensor([[3., 4.],\n",
      "        [4., 5.]])\n"
     ]
    }
   ],
   "source": [
    "#what is elements are in different in size\n",
    "t1 = torch.tensor([\n",
    "    [1,1],\n",
    "    [2,2]\n",
    "],dtype= torch.float32)\n",
    "\n",
    "t2 = torch.tensor([\n",
    "    [2,3]\n",
    "],dtype=torch.float32)\n",
    "\n",
    "print(t1+t2)"
   ]
  },
  {
   "cell_type": "markdown",
   "metadata": {},
   "source": [
    "##same name \n",
    "Elementwise operations\n",
    "componentsie operations\n",
    "point wise operations\n",
    "\n",
    "some of the comapring operations \n",
    "Brocast link \n",
    "https://deeplizard.com/learn/video/6_33ulFDuCg\n"
   ]
  },
  {
   "cell_type": "code",
   "execution_count": 34,
   "metadata": {},
   "outputs": [
    {
     "name": "stdout",
     "output_type": "stream",
     "text": [
      "tensor(29.)\n",
      "1\n",
      "9\n",
      "True\n"
     ]
    }
   ],
   "source": [
    "#Tensor reduction operations\n",
    "# manage our tensors and datastructors\n",
    "\n",
    "t1 = torch.tensor([\n",
    "    [2,3,2],\n",
    "    [3,4,3],\n",
    "    [4,5,3]\n",
    "],dtype = torch.float32)\n",
    "\n",
    "print(t1.sum())\n",
    "print(t1.sum().numel())\n",
    "print(t1.numel())\n",
    "print(t1.sum().numel() < t1.numel())"
   ]
  },
  {
   "cell_type": "code",
   "execution_count": 35,
   "metadata": {},
   "outputs": [
    {
     "data": {
      "text/plain": [
       "tensor([[2., 3., 2.],\n",
       "        [3., 4., 3.],\n",
       "        [4., 5., 3.]])"
      ]
     },
     "execution_count": 35,
     "metadata": {},
     "output_type": "execute_result"
    }
   ],
   "source": [
    "#Some other reduction operations\n",
    "t1.sum()\n",
    "t1.prod()\n",
    "t1.mean()\n",
    "t1.median() \n",
    "t1.std()\n",
    "t1.abs()\n"
   ]
  },
  {
   "cell_type": "code",
   "execution_count": 36,
   "metadata": {},
   "outputs": [],
   "source": [
    "# Row wise and col wise reduction operations\n",
    "t = torch.tensor([\n",
    "    [1,1,1,1],\n",
    "    [2,2,2,2],\n",
    "    [3,3,3,3],\n",
    "    [4,4,4,4]\n",
    "])\n"
   ]
  },
  {
   "cell_type": "code",
   "execution_count": 38,
   "metadata": {},
   "outputs": [
    {
     "name": "stdout",
     "output_type": "stream",
     "text": [
      "tensor([10, 10, 10, 10])\n",
      "tensor([ 4,  8, 12, 16])\n",
      "tensor(40)\n"
     ]
    }
   ],
   "source": [
    "#colume wise sum\n",
    "print (t.sum(dim = 0))\n",
    "#rowwise sum\n",
    "print (t.sum(dim = 1))\n",
    "#overall sum \n",
    "print(t.sum())"
   ]
  },
  {
   "cell_type": "markdown",
   "metadata": {},
   "source": [
    "Arg max function - used to identy the idx of the maximum element\n",
    "arg max works with row and col wise operations "
   ]
  },
  {
   "cell_type": "code",
   "execution_count": 47,
   "metadata": {},
   "outputs": [
    {
     "name": "stdout",
     "output_type": "stream",
     "text": [
      "tensor([1, 1, 2, 2])\n",
      "tensor([3, 1, 3])\n",
      "tensor(5.)\n",
      "torch.return_types.max(\n",
      "values=tensor([2., 3., 3., 5.]),\n",
      "indices=tensor([1, 1, 2, 2]))\n",
      "torch.return_types.max(\n",
      "values=tensor([2., 3., 5.]),\n",
      "indices=tensor([3, 1, 3]))\n"
     ]
    }
   ],
   "source": [
    "t = torch.tensor([\n",
    "    [1,0,0,2],\n",
    "    [2,3,1,0],\n",
    "    [0,2,3,5]\n",
    "],dtype = torch.float32)\n",
    "\n",
    "print(t.argmax(dim = 0))\n",
    "print(t.argmax(dim = 1))\n",
    "print(t.max())\n",
    "print(t.max(dim = 0))\n",
    "print(t.max(dim = 1))\n"
   ]
  },
  {
   "cell_type": "code",
   "execution_count": 48,
   "metadata": {},
   "outputs": [
    {
     "name": "stdout",
     "output_type": "stream",
     "text": [
      "tensor(1.5833)\n",
      "1.5833333730697632\n"
     ]
    }
   ],
   "source": [
    "# To access inidivitual value from the tensor use ITEM function \n",
    "print(t.mean())\n",
    "print(t.mean().item())"
   ]
  },
  {
   "cell_type": "code",
   "execution_count": 49,
   "metadata": {},
   "outputs": [
    {
     "name": "stdout",
     "output_type": "stream",
     "text": [
      "tensor(1.5833)\n",
      "tensor([1.0000, 1.6667, 1.3333, 2.3333])\n",
      "[1.0, 1.6666666269302368, 1.3333333730697632, 2.3333332538604736]\n",
      "[1.        1.6666666 1.3333334 2.3333333]\n"
     ]
    }
   ],
   "source": [
    "# to extract multiple values from the tensor\n",
    "# use tolist() function \n",
    "# use   numpy()\n",
    "print(t.mean())\n",
    "print(t.mean(dim=0))\n",
    "print(t.mean(dim=0).tolist())\n",
    "print(t.mean(dim=0).numpy()) "
   ]
  },
  {
   "cell_type": "markdown",
   "metadata": {},
   "source": [
    "MNIST Dataset\n",
    "\n",
    "Modified National institude of standards and technology \n",
    "Hand writtern chars \n",
    "it contains 70,000 dataset \n",
    "60,000 - Training \n",
    "10,000 - Testing Dataset \n",
    "\n",
    "MINIST Fashion - 10 class of fashion \n",
    "it contains 70,000 dataset \n",
    "60,000 - Training \n",
    "10,000 - Testing Dataset "
   ]
  },
  {
   "cell_type": "markdown",
   "metadata": {},
   "source": [
    "Torch vision - computer vision pytorch library \n",
    "Project contains \n",
    "1. prepare data\n",
    "2. Build Model\n",
    "3. Train the model \n",
    "4. Analyze the model"
   ]
  },
  {
   "cell_type": "markdown",
   "metadata": {},
   "source": [
    "ETL \n",
    "\n",
    "E - Extract \n",
    "T - Transform\n",
    "L - Load\n"
   ]
  },
  {
   "cell_type": "code",
   "execution_count": null,
   "metadata": {},
   "outputs": [],
   "source": []
  }
 ],
 "metadata": {
  "interpreter": {
   "hash": "f59ac656b05a8bff0953fa93dae411c074c97b0c68071cf73f4db77146a82af0"
  },
  "kernelspec": {
   "display_name": "Python 3.8.10 64-bit ('myEnv': venv)",
   "language": "python",
   "name": "python3"
  },
  "language_info": {
   "codemirror_mode": {
    "name": "ipython",
    "version": 3
   },
   "file_extension": ".py",
   "mimetype": "text/x-python",
   "name": "python",
   "nbconvert_exporter": "python",
   "pygments_lexer": "ipython3",
   "version": "3.8.10"
  },
  "orig_nbformat": 4
 },
 "nbformat": 4,
 "nbformat_minor": 2
}
