{
 "cells": [
  {
   "cell_type": "code",
   "execution_count": null,
   "metadata": {},
   "outputs": [
    {
     "name": "stdout",
     "output_type": "stream",
     "text": [
      "3.8.10\n"
     ]
    }
   ],
   "source": [
    "from platform import python_version\n",
    "print(python_version())"
   ]
  },
  {
   "cell_type": "code",
   "execution_count": null,
   "metadata": {},
   "outputs": [
    {
     "name": "stdout",
     "output_type": "stream",
     "text": [
      "Python 3.8.10\n"
     ]
    }
   ],
   "source": [
    "!python --version"
   ]
  },
  {
   "cell_type": "code",
   "execution_count": 18,
   "metadata": {},
   "outputs": [
    {
     "name": "stdout",
     "output_type": "stream",
     "text": [
      "3\n",
      "3\n",
      "[[22. 16. 25.]\n",
      " [26. 18. 30.]\n",
      " [35. 25. 40.]]\n"
     ]
    }
   ],
   "source": [
    "#Matrix multiplication \n",
    "\n",
    "import numpy as np\n",
    "\n",
    "a = [[2,3,2],\n",
    "     [2,4,2],\n",
    "     [3,5,3]]\n",
    "print(len(a))\n",
    "\n",
    "b = [[2,4,3],\n",
    "    [3,2,2],\n",
    "    [3,5,2]]\n",
    "print(len(b))\n",
    "out = np.zeros((3,3))\n",
    "for i in range(len(a)):\n",
    "    for j in range(len(b)):\n",
    "        for k in range (len(b)):\n",
    "            out[i][j] += a[i][k] * b[j][k]\n",
    "\n",
    "print(out)"
   ]
  },
  {
   "cell_type": "code",
   "execution_count": 23,
   "metadata": {},
   "outputs": [
    {
     "name": "stdout",
     "output_type": "stream",
     "text": [
      "I am fruit\n",
      "i am mango\n"
     ]
    }
   ],
   "source": [
    "# create class \n",
    "class fruit():\n",
    "    def __init__(self):\n",
    "        print(\"I am fruit\")\n",
    "class Mango(fruit):\n",
    "    def __init__(self):\n",
    "        super().__init__()\n",
    "        print('i am mango')\n",
    "\n",
    "myFruit = Mango()\n"
   ]
  },
  {
   "cell_type": "code",
   "execution_count": 24,
   "metadata": {},
   "outputs": [],
   "source": [
    "import pickle\n",
    "expl_dict = {1:\"6\",2:\"4\",3:\"5\",4:\"9\"}\n",
    "\n",
    "pickle_out = open(\"dict_pickle\",\"wb\")\n",
    "pickle.dump(expl_dict,pickle_out)\n",
    "pickle_out.close()\n",
    "\n"
   ]
  },
  {
   "cell_type": "code",
   "execution_count": 25,
   "metadata": {},
   "outputs": [
    {
     "name": "stdout",
     "output_type": "stream",
     "text": [
      "{1: '6', 2: '4', 3: '5', 4: '9'}\n"
     ]
    }
   ],
   "source": [
    "import pickle\n",
    "pickle_in = open(\"dict_pickle\",\"rb\")\n",
    "dict_out = pickle.load(pickle_in)\n",
    "print(dict_out)\n",
    "pickle_in.close()"
   ]
  },
  {
   "cell_type": "code",
   "execution_count": 34,
   "metadata": {},
   "outputs": [
    {
     "name": "stdout",
     "output_type": "stream",
     "text": [
      "[('arang', 'rajan'), ('mani', 'kandan')]\n",
      "arang rajan\n",
      "mani kandan\n",
      "[('arang', 'rajan'), ('mani', 'kandan')]\n",
      "{'arang': 'rajan', 'mani': 'kandan'}\n",
      "2 + 12 = 14\n",
      "4 + 2 = 6\n",
      "2 + 4 = 6\n",
      "5 + 24 = 29\n",
      "23 + 2 = 25\n",
      "24 + 1 = 25\n",
      "23 + 4 = 27\n"
     ]
    }
   ],
   "source": [
    "#Zip function \n",
    "l1 = ['arang', 'mani']\n",
    "l2 = ['rajan','kandan']\n",
    "z1 = zip(l1,l2)\n",
    "print(list(z1))\n",
    "\n",
    "for a,b in zip(l1,l2):\n",
    "    print(a,b)\n",
    "\n",
    "list_zip = list(zip(l1,l2))\n",
    "print(list_zip)\n",
    "\n",
    "dict_zip = dict(zip(l1,l2))\n",
    "print(dict_zip)\n",
    "\n",
    "l1 = 2,4,2,5,23,24,23\n",
    "l2 = 12,2,4,24,2,1,4\n",
    "\n",
    "for a,b in zip(l1,l2):\n",
    "    print( '{} + {} = {}'.format(a,b,a+b))"
   ]
  },
  {
   "cell_type": "code",
   "execution_count": null,
   "metadata": {},
   "outputs": [],
   "source": [
    "import torch\n",
    "import torchvision\n",
    "import torch.nn as nn\n",
    "import torch.nn.functional as F\n",
    "import torch.optim\n",
    "\n",
    "class Network(nn.module):\n",
    "    def __int__(self):\n",
    "        super.__init__()\n",
    "        self.conv1 = nn.Conv2d(in_channels= 6,out_channels= 12,kernel_size=3)\n",
    "        self.conv2 = nn.Conv2d(in_channels= 6,out_channels= 12,kernel_size=3)\n",
    "        self.conv3 = nn.Conv2d(in_channels= 6,out_channels= 12,kernel_size=3)\n",
    "        self.fc1 = nn.Linear(in_features = 128,out_features = 256)\n",
    "        self.fc2 = nn.Linear(in_features = 256,out_features = 512)\n",
    "        self.out = nn.Linear(in_features = 512,out_features = 5)\n",
    "\n",
    "    def forward(self,t):\n",
    "        t = t;\n",
    "        t1 = self.conv1(t)\n",
    "        nn.ReLU(t1)\n",
    "        nn.MaxPool2d(t1)\n",
    "        t2 = self.conv2(t1)\n",
    "        nn.ReLU(t2)\n",
    "        nn.MaxPool2d(t2)\n",
    "        t3 = self.conv2(t2)\n",
    "        nn.ReLU(t3)\n",
    "        nn.MaxPool2d(t3)\n",
    "        t4 = self.fc1(t3)\n",
    "        t5 = self.fc2(t4)\n",
    "        output = self.out(t5)\n",
    "\n",
    "\n",
    "\n",
    "\n",
    "\n",
    "\n"
   ]
  }
 ],
 "metadata": {
  "interpreter": {
   "hash": "f59ac656b05a8bff0953fa93dae411c074c97b0c68071cf73f4db77146a82af0"
  },
  "kernelspec": {
   "display_name": "Python 3.8.10 ('myEnv': venv)",
   "language": "python",
   "name": "python3"
  },
  "language_info": {
   "codemirror_mode": {
    "name": "ipython",
    "version": 3
   },
   "file_extension": ".py",
   "mimetype": "text/x-python",
   "name": "python",
   "nbconvert_exporter": "python",
   "pygments_lexer": "ipython3",
   "version": "3.8.10"
  },
  "orig_nbformat": 4
 },
 "nbformat": 4,
 "nbformat_minor": 2
}
